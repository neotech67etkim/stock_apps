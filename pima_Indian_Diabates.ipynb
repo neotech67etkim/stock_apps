{
 "cells": [
  {
   "cell_type": "code",
   "execution_count": 1,
   "id": "1f738c20",
   "metadata": {},
   "outputs": [],
   "source": [
    "import pandas as pd\n",
    "import numpy as np\n",
    "import matplotlib.pyplot as plt\n",
    "from tensorflow.keras import Sequential\n",
    "from tensorflow.keras.layers import Dense\n",
    "import seaborn as sns"
   ]
  },
  {
   "cell_type": "code",
   "execution_count": 2,
   "id": "c6bb7088",
   "metadata": {},
   "outputs": [],
   "source": [
    "df = pd.read_csv('data/diabetes.csv')"
   ]
  },
  {
   "cell_type": "code",
   "execution_count": 3,
   "id": "3a910129",
   "metadata": {},
   "outputs": [
    {
     "name": "stdout",
     "output_type": "stream",
     "text": [
      "<class 'pandas.core.frame.DataFrame'>\n",
      "RangeIndex: 768 entries, 0 to 767\n",
      "Data columns (total 9 columns):\n",
      " #   Column                    Non-Null Count  Dtype  \n",
      "---  ------                    --------------  -----  \n",
      " 0   Pregnancies               768 non-null    int64  \n",
      " 1   Glucose                   768 non-null    int64  \n",
      " 2   BloodPressure             768 non-null    int64  \n",
      " 3   SkinThickness             768 non-null    int64  \n",
      " 4   Insulin                   768 non-null    int64  \n",
      " 5   BMI                       768 non-null    float64\n",
      " 6   DiabetesPedigreeFunction  768 non-null    float64\n",
      " 7   Age                       768 non-null    int64  \n",
      " 8   Outcome                   768 non-null    int64  \n",
      "dtypes: float64(2), int64(7)\n",
      "memory usage: 54.1 KB\n"
     ]
    }
   ],
   "source": [
    "df.info()"
   ]
  },
  {
   "cell_type": "code",
   "execution_count": 4,
   "id": "bd1998c9",
   "metadata": {},
   "outputs": [],
   "source": [
    "X = df.iloc[:,0:8]\n",
    "y = df.iloc[:,8]"
   ]
  },
  {
   "cell_type": "code",
   "execution_count": 5,
   "id": "3b4bfd8a",
   "metadata": {},
   "outputs": [
    {
     "data": {
      "text/plain": [
       "(array([ 11.,   0.,  15., 156., 268., 224.,  78.,  12.,   3.,   1.]),\n",
       " array([ 0.  ,  6.71, 13.42, 20.13, 26.84, 33.55, 40.26, 46.97, 53.68,\n",
       "        60.39, 67.1 ]),\n",
       " <BarContainer object of 10 artists>)"
      ]
     },
     "execution_count": 5,
     "metadata": {},
     "output_type": "execute_result"
    },
    {
     "data": {
      "image/png": "[encoded data removed]",
      "text/plain": [
       "<Figure size 432x288 with 2 Axes>"
      ]
     },
     "metadata": {
      "needs_background": "light"
     },
     "output_type": "display_data"
    }
   ],
   "source": [
    "plt.subplot(1,2,1)\n",
    "plt.hist(df.Pregnancies)\n",
    "plt.subplot(1,2,2)\n",
    "plt.hist(df.BMI)"
   ]
  },
  {
   "cell_type": "code",
   "execution_count": 6,
   "id": "2ba9a685",
   "metadata": {
    "scrolled": true
   },
   "outputs": [],
   "source": [
    "from sklearn.preprocessing import MinMaxScaler\n",
    "scaler = MinMaxScaler()\n",
    "X = scaler.fit_transform(X)"
   ]
  },
  {
   "cell_type": "code",
   "execution_count": 7,
   "id": "c78874be",
   "metadata": {
    "scrolled": true
   },
   "outputs": [
    {
     "data": {
      "text/plain": [
       "numpy.ndarray"
      ]
     },
     "execution_count": 7,
     "metadata": {},
     "output_type": "execute_result"
    }
   ],
   "source": [
    "type(X)"
   ]
  },
  {
   "cell_type": "code",
   "execution_count": 8,
   "id": "e81f094d",
   "metadata": {
    "scrolled": true
   },
   "outputs": [
    {
     "data": {
      "text/plain": [
       "0      1\n",
       "1      0\n",
       "2      1\n",
       "3      0\n",
       "4      1\n",
       "      ..\n",
       "763    0\n",
       "764    0\n",
       "765    0\n",
       "766    1\n",
       "767    0\n",
       "Name: Outcome, Length: 768, dtype: int64"
      ]
     },
     "execution_count": 8,
     "metadata": {},
     "output_type": "execute_result"
    }
   ],
   "source": [
    "y"
   ]
  },
  {
   "cell_type": "code",
   "execution_count": 9,
   "id": "5e20cf02",
   "metadata": {},
   "outputs": [
    {
     "name": "stdout",
     "output_type": "stream",
     "text": [
      "X_train shape: (537, 8)\n",
      "X_test shape: (231, 8)\n",
      "y_train shape: (537,)\n",
      "y_test shape: (231,)\n"
     ]
    }
   ],
   "source": [
    "from sklearn.model_selection import train_test_split\n",
    "\n",
    "X_train, X_test, y_train, y_test = train_test_split(X,\n",
    "                                                    y,\n",
    "                                                    test_size=0.3,\n",
    "                                                    shuffle=False, )\n",
    "\n",
    "print('X_train shape:', X_train.shape)\n",
    "print('X_test shape:', X_test.shape)\n",
    "print('y_train shape:', y_train.shape)\n",
    "print('y_test shape:', y_test.shape)\n"
   ]
  },
  {
   "cell_type": "code",
   "execution_count": 10,
   "id": "4588eee2",
   "metadata": {},
   "outputs": [],
   "source": [
    "model = Sequential()\n",
    "\n",
    "model.add(Dense(12,input_dim=8,activation = 'relu'))\n",
    "model.add(Dense(8,activation = 'relu'))\n",
    "model.add(Dense(1,activation = 'sigmoid'))\n",
    "\n",
    "model.compile(optimizer='adam',loss='binary_crossentropy',metrics=['accuracy'])"
   ]
  },
  {
   "cell_type": "code",
   "execution_count": 11,
   "id": "e9375a8c",
   "metadata": {},
   "outputs": [
    {
     "name": "stdout",
     "output_type": "stream",
     "text": [
      "Epoch 1/100\n",
      "54/54 [==============================] - 0s 894us/step - loss: 0.6992 - accuracy: 0.4525\n",
      "Epoch 2/100\n",
      "54/54 [==============================] - 0s 867us/step - loss: 0.6723 - accuracy: 0.6462\n",
      "Epoch 3/100\n",
      "54/54 [==============================] - 0s 900us/step - loss: 0.6635 - accuracy: 0.6480\n",
      "Epoch 4/100\n",
      "54/54 [==============================] - 0s 905us/step - loss: 0.6561 - accuracy: 0.6480\n",
      "Epoch 5/100\n",
      "54/54 [==============================] - 0s 838us/step - loss: 0.6501 - accuracy: 0.6480\n",
      "Epoch 6/100\n",
      "54/54 [==============================] - 0s 1ms/step - loss: 0.6449 - accuracy: 0.6480\n",
      "Epoch 7/100\n",
      "54/54 [==============================] - 0s 804us/step - loss: 0.6403 - accuracy: 0.6480\n",
      "Epoch 8/100\n",
      "54/54 [==============================] - 0s 826us/step - loss: 0.6350 - accuracy: 0.6480\n",
      "Epoch 9/100\n",
      "54/54 [==============================] - 0s 879us/step - loss: 0.6299 - accuracy: 0.6480\n",
      "Epoch 10/100\n",
      "54/54 [==============================] - 0s 892us/step - loss: 0.6236 - accuracy: 0.6480\n",
      "Epoch 11/100\n",
      "54/54 [==============================] - 0s 918us/step - loss: 0.6170 - accuracy: 0.6536\n",
      "Epoch 12/100\n",
      "54/54 [==============================] - 0s 1ms/step - loss: 0.6076 - accuracy: 0.6536\n",
      "Epoch 13/100\n",
      "54/54 [==============================] - 0s 854us/step - loss: 0.5933 - accuracy: 0.6685\n",
      "Epoch 14/100\n",
      "54/54 [==============================] - 0s 1ms/step - loss: 0.5806 - accuracy: 0.6890\n",
      "Epoch 15/100\n",
      "54/54 [==============================] - 0s 1ms/step - loss: 0.5734 - accuracy: 0.7188\n",
      "Epoch 16/100\n",
      "54/54 [==============================] - 0s 1ms/step - loss: 0.5603 - accuracy: 0.7132\n",
      "Epoch 17/100\n",
      "54/54 [==============================] - 0s 960us/step - loss: 0.5526 - accuracy: 0.7207\n",
      "Epoch 18/100\n",
      "54/54 [==============================] - 0s 809us/step - loss: 0.5439 - accuracy: 0.7225\n",
      "Epoch 19/100\n",
      "54/54 [==============================] - 0s 884us/step - loss: 0.5395 - accuracy: 0.7188\n",
      "Epoch 20/100\n",
      "54/54 [==============================] - 0s 804us/step - loss: 0.5338 - accuracy: 0.7356\n",
      "Epoch 21/100\n",
      "54/54 [==============================] - 0s 922us/step - loss: 0.5248 - accuracy: 0.7318\n",
      "Epoch 22/100\n",
      "54/54 [==============================] - 0s 866us/step - loss: 0.5209 - accuracy: 0.7412\n",
      "Epoch 23/100\n",
      "54/54 [==============================] - 0s 941us/step - loss: 0.5201 - accuracy: 0.7430\n",
      "Epoch 24/100\n",
      "54/54 [==============================] - 0s 1ms/step - loss: 0.5166 - accuracy: 0.7467\n",
      "Epoch 25/100\n",
      "54/54 [==============================] - 0s 897us/step - loss: 0.5103 - accuracy: 0.7523\n",
      "Epoch 26/100\n",
      "54/54 [==============================] - 0s 880us/step - loss: 0.5086 - accuracy: 0.7542\n",
      "Epoch 27/100\n",
      "54/54 [==============================] - 0s 922us/step - loss: 0.5043 - accuracy: 0.7505\n",
      "Epoch 28/100\n",
      "54/54 [==============================] - 0s 927us/step - loss: 0.5008 - accuracy: 0.7561\n",
      "Epoch 29/100\n",
      "54/54 [==============================] - 0s 1ms/step - loss: 0.4997 - accuracy: 0.7542\n",
      "Epoch 30/100\n",
      "54/54 [==============================] - 0s 884us/step - loss: 0.4976 - accuracy: 0.7616\n",
      "Epoch 31/100\n",
      "54/54 [==============================] - 0s 827us/step - loss: 0.4952 - accuracy: 0.7635\n",
      "Epoch 32/100\n",
      "54/54 [==============================] - 0s 799us/step - loss: 0.4937 - accuracy: 0.7635\n",
      "Epoch 33/100\n",
      "54/54 [==============================] - 0s 898us/step - loss: 0.4906 - accuracy: 0.7579\n",
      "Epoch 34/100\n",
      "54/54 [==============================] - 0s 823us/step - loss: 0.4877 - accuracy: 0.7579\n",
      "Epoch 35/100\n",
      "54/54 [==============================] - 0s 820us/step - loss: 0.4883 - accuracy: 0.7728\n",
      "Epoch 36/100\n",
      "54/54 [==============================] - 0s 810us/step - loss: 0.4842 - accuracy: 0.7821\n",
      "Epoch 37/100\n",
      "54/54 [==============================] - 0s 1ms/step - loss: 0.4863 - accuracy: 0.7672\n",
      "Epoch 38/100\n",
      "54/54 [==============================] - 0s 969us/step - loss: 0.4830 - accuracy: 0.7691\n",
      "Epoch 39/100\n",
      "54/54 [==============================] - 0s 921us/step - loss: 0.4822 - accuracy: 0.7784\n",
      "Epoch 40/100\n",
      "54/54 [==============================] - 0s 1ms/step - loss: 0.4785 - accuracy: 0.7784\n",
      "Epoch 41/100\n",
      "54/54 [==============================] - 0s 973us/step - loss: 0.4803 - accuracy: 0.7709\n",
      "Epoch 42/100\n",
      "54/54 [==============================] - 0s 828us/step - loss: 0.4759 - accuracy: 0.7765\n",
      "Epoch 43/100\n",
      "54/54 [==============================] - 0s 781us/step - loss: 0.4784 - accuracy: 0.7747\n",
      "Epoch 44/100\n",
      "54/54 [==============================] - 0s 810us/step - loss: 0.4747 - accuracy: 0.7691\n",
      "Epoch 45/100\n",
      "54/54 [==============================] - 0s 753us/step - loss: 0.4755 - accuracy: 0.7858\n",
      "Epoch 46/100\n",
      "54/54 [==============================] - 0s 821us/step - loss: 0.4717 - accuracy: 0.7784\n",
      "Epoch 47/100\n",
      "54/54 [==============================] - 0s 914us/step - loss: 0.4713 - accuracy: 0.7728\n",
      "Epoch 48/100\n",
      "54/54 [==============================] - 0s 803us/step - loss: 0.4697 - accuracy: 0.7765\n",
      "Epoch 49/100\n",
      "54/54 [==============================] - 0s 964us/step - loss: 0.4726 - accuracy: 0.7747\n",
      "Epoch 50/100\n",
      "54/54 [==============================] - 0s 994us/step - loss: 0.4684 - accuracy: 0.7747\n",
      "Epoch 51/100\n",
      "54/54 [==============================] - 0s 948us/step - loss: 0.4701 - accuracy: 0.7821\n",
      "Epoch 52/100\n",
      "54/54 [==============================] - 0s 960us/step - loss: 0.4756 - accuracy: 0.7784\n",
      "Epoch 53/100\n",
      "54/54 [==============================] - 0s 981us/step - loss: 0.4701 - accuracy: 0.7747\n",
      "Epoch 54/100\n",
      "54/54 [==============================] - 0s 794us/step - loss: 0.4688 - accuracy: 0.7821\n",
      "Epoch 55/100\n",
      "54/54 [==============================] - 0s 818us/step - loss: 0.4669 - accuracy: 0.7747\n",
      "Epoch 56/100\n",
      "54/54 [==============================] - 0s 793us/step - loss: 0.4672 - accuracy: 0.7784\n",
      "Epoch 57/100\n",
      "54/54 [==============================] - 0s 757us/step - loss: 0.4671 - accuracy: 0.7803\n",
      "Epoch 58/100\n",
      "54/54 [==============================] - 0s 766us/step - loss: 0.4701 - accuracy: 0.7803\n",
      "Epoch 59/100\n",
      "54/54 [==============================] - 0s 840us/step - loss: 0.4730 - accuracy: 0.7784\n",
      "Epoch 60/100\n",
      "54/54 [==============================] - 0s 755us/step - loss: 0.4675 - accuracy: 0.7765\n",
      "Epoch 61/100\n",
      "54/54 [==============================] - 0s 813us/step - loss: 0.4652 - accuracy: 0.7858\n",
      "Epoch 62/100\n",
      "54/54 [==============================] - 0s 903us/step - loss: 0.4629 - accuracy: 0.7728\n",
      "Epoch 63/100\n",
      "54/54 [==============================] - 0s 1ms/step - loss: 0.4632 - accuracy: 0.7803\n",
      "Epoch 64/100\n",
      "54/54 [==============================] - 0s 950us/step - loss: 0.4604 - accuracy: 0.7728\n",
      "Epoch 65/100\n",
      "54/54 [==============================] - 0s 903us/step - loss: 0.4651 - accuracy: 0.7840\n",
      "Epoch 66/100\n",
      "54/54 [==============================] - 0s 789us/step - loss: 0.4607 - accuracy: 0.7803\n",
      "Epoch 67/100\n",
      "54/54 [==============================] - 0s 742us/step - loss: 0.4612 - accuracy: 0.7803\n",
      "Epoch 68/100\n",
      "54/54 [==============================] - 0s 827us/step - loss: 0.4597 - accuracy: 0.7858\n",
      "Epoch 69/100\n",
      "54/54 [==============================] - 0s 870us/step - loss: 0.4641 - accuracy: 0.7747\n",
      "Epoch 70/100\n",
      "54/54 [==============================] - 0s 793us/step - loss: 0.4619 - accuracy: 0.7728\n",
      "Epoch 71/100\n",
      "54/54 [==============================] - 0s 763us/step - loss: 0.4608 - accuracy: 0.7840\n",
      "Epoch 72/100\n",
      "54/54 [==============================] - 0s 871us/step - loss: 0.4632 - accuracy: 0.7747\n",
      "Epoch 73/100\n",
      "54/54 [==============================] - 0s 865us/step - loss: 0.4625 - accuracy: 0.7821\n",
      "Epoch 74/100\n",
      "54/54 [==============================] - 0s 846us/step - loss: 0.4611 - accuracy: 0.7821\n",
      "Epoch 75/100\n",
      "54/54 [==============================] - 0s 904us/step - loss: 0.4625 - accuracy: 0.7709\n",
      "Epoch 76/100\n",
      "54/54 [==============================] - 0s 793us/step - loss: 0.4668 - accuracy: 0.7765\n",
      "Epoch 77/100\n",
      "54/54 [==============================] - 0s 804us/step - loss: 0.4607 - accuracy: 0.7747\n",
      "Epoch 78/100\n",
      "54/54 [==============================] - 0s 820us/step - loss: 0.4609 - accuracy: 0.7821\n",
      "Epoch 79/100\n",
      "54/54 [==============================] - 0s 854us/step - loss: 0.4610 - accuracy: 0.7803\n",
      "Epoch 80/100\n",
      "54/54 [==============================] - 0s 881us/step - loss: 0.4605 - accuracy: 0.7765\n",
      "Epoch 81/100\n"
     ]
    },
    {
     "name": "stdout",
     "output_type": "stream",
     "text": [
      "54/54 [==============================] - 0s 808us/step - loss: 0.4583 - accuracy: 0.7821\n",
      "Epoch 82/100\n",
      "54/54 [==============================] - 0s 821us/step - loss: 0.4591 - accuracy: 0.7747\n",
      "Epoch 83/100\n",
      "54/54 [==============================] - 0s 799us/step - loss: 0.4590 - accuracy: 0.7784\n",
      "Epoch 84/100\n",
      "54/54 [==============================] - 0s 846us/step - loss: 0.4595 - accuracy: 0.7803\n",
      "Epoch 85/100\n",
      "54/54 [==============================] - 0s 846us/step - loss: 0.4606 - accuracy: 0.7728\n",
      "Epoch 86/100\n",
      "54/54 [==============================] - 0s 782us/step - loss: 0.4607 - accuracy: 0.7765\n",
      "Epoch 87/100\n",
      "54/54 [==============================] - 0s 825us/step - loss: 0.4573 - accuracy: 0.7858\n",
      "Epoch 88/100\n",
      "54/54 [==============================] - 0s 839us/step - loss: 0.4596 - accuracy: 0.7728\n",
      "Epoch 89/100\n",
      "54/54 [==============================] - 0s 836us/step - loss: 0.4597 - accuracy: 0.7858\n",
      "Epoch 90/100\n",
      "54/54 [==============================] - 0s 736us/step - loss: 0.4565 - accuracy: 0.7784\n",
      "Epoch 91/100\n",
      "54/54 [==============================] - 0s 749us/step - loss: 0.4562 - accuracy: 0.7821\n",
      "Epoch 92/100\n",
      "54/54 [==============================] - 0s 781us/step - loss: 0.4589 - accuracy: 0.7840\n",
      "Epoch 93/100\n",
      "54/54 [==============================] - 0s 758us/step - loss: 0.4565 - accuracy: 0.7858\n",
      "Epoch 94/100\n",
      "54/54 [==============================] - 0s 799us/step - loss: 0.4615 - accuracy: 0.7709\n",
      "Epoch 95/100\n",
      "54/54 [==============================] - 0s 832us/step - loss: 0.4539 - accuracy: 0.7803\n",
      "Epoch 96/100\n",
      "54/54 [==============================] - 0s 888us/step - loss: 0.4599 - accuracy: 0.7858\n",
      "Epoch 97/100\n",
      "54/54 [==============================] - 0s 873us/step - loss: 0.4568 - accuracy: 0.7858\n",
      "Epoch 98/100\n",
      "54/54 [==============================] - 0s 897us/step - loss: 0.4572 - accuracy: 0.7877\n",
      "Epoch 99/100\n",
      "54/54 [==============================] - 0s 1ms/step - loss: 0.4595 - accuracy: 0.7728\n",
      "Epoch 100/100\n",
      "54/54 [==============================] - 0s 1ms/step - loss: 0.4576 - accuracy: 0.7784\n"
     ]
    }
   ],
   "source": [
    "scores = model.fit(X_train,y_train,epochs=100, batch_size=10)"
   ]
  },
  {
   "cell_type": "code",
   "execution_count": 12,
   "id": "eb43ced0",
   "metadata": {},
   "outputs": [
    {
     "data": {
      "text/plain": [
       "array([[0.08277708],\n",
       "       [0.20358407],\n",
       "       [0.5000552 ],\n",
       "       [0.43367082],\n",
       "       [0.24073058],\n",
       "       [0.18301132],\n",
       "       [0.09359711],\n",
       "       [0.06453905],\n",
       "       [0.8735776 ],\n",
       "       [0.9125318 ],\n",
       "       [0.2562493 ],\n",
       "       [0.62878096],\n",
       "       [0.8281704 ],\n",
       "       [0.06866616],\n",
       "       [0.07606539],\n",
       "       [0.1541914 ],\n",
       "       [0.04894719],\n",
       "       [0.109929  ],\n",
       "       [0.32538033],\n",
       "       [0.20806289],\n",
       "       [0.16218323],\n",
       "       [0.34693366],\n",
       "       [0.16527238],\n",
       "       [0.24101186],\n",
       "       [0.81406355],\n",
       "       [0.10555163],\n",
       "       [0.18981245],\n",
       "       [0.07566237],\n",
       "       [0.06110001],\n",
       "       [0.13840672],\n",
       "       [0.10980609],\n",
       "       [0.61567503],\n",
       "       [0.19856   ],\n",
       "       [0.13596731],\n",
       "       [0.05377391],\n",
       "       [0.12964287],\n",
       "       [0.07536492],\n",
       "       [0.16366816],\n",
       "       [0.3412218 ],\n",
       "       [0.3477857 ],\n",
       "       [0.36338288],\n",
       "       [0.50311184],\n",
       "       [0.76033044],\n",
       "       [0.47534454],\n",
       "       [0.14265865],\n",
       "       [0.22952038],\n",
       "       [0.2398544 ],\n",
       "       [0.6470009 ],\n",
       "       [0.0303683 ],\n",
       "       [0.5938947 ],\n",
       "       [0.11225095],\n",
       "       [0.88170254],\n",
       "       [0.05730683],\n",
       "       [0.6375496 ],\n",
       "       [0.18095315],\n",
       "       [0.5458151 ],\n",
       "       [0.18784219],\n",
       "       [0.5205195 ],\n",
       "       [0.5148879 ],\n",
       "       [0.17183971],\n",
       "       [0.09816957],\n",
       "       [0.7780063 ],\n",
       "       [0.06830239],\n",
       "       [0.05862513],\n",
       "       [0.22548783],\n",
       "       [0.14494023],\n",
       "       [0.67525125],\n",
       "       [0.7797063 ],\n",
       "       [0.29042405],\n",
       "       [0.7778671 ],\n",
       "       [0.02520984],\n",
       "       [0.3912163 ],\n",
       "       [0.02984929],\n",
       "       [0.09744602],\n",
       "       [0.7864928 ],\n",
       "       [0.8817012 ],\n",
       "       [0.30737537],\n",
       "       [0.65982693],\n",
       "       [0.07436737],\n",
       "       [0.16940475],\n",
       "       [0.01091373],\n",
       "       [0.43863153],\n",
       "       [0.33301836],\n",
       "       [0.17597082],\n",
       "       [0.1634981 ],\n",
       "       [0.9406909 ],\n",
       "       [0.13756755],\n",
       "       [0.07814443],\n",
       "       [0.1667997 ],\n",
       "       [0.05790782],\n",
       "       [0.1526038 ],\n",
       "       [0.40804657],\n",
       "       [0.03852013],\n",
       "       [0.397344  ],\n",
       "       [0.0706791 ],\n",
       "       [0.08098117],\n",
       "       [0.05175361],\n",
       "       [0.15344658],\n",
       "       [0.35905448],\n",
       "       [0.15778616],\n",
       "       [0.07714537],\n",
       "       [0.5700294 ],\n",
       "       [0.02303055],\n",
       "       [0.06679311],\n",
       "       [0.29982024],\n",
       "       [0.47996104],\n",
       "       [0.33756065],\n",
       "       [0.1013909 ],\n",
       "       [0.41013438],\n",
       "       [0.35315132],\n",
       "       [0.6882743 ],\n",
       "       [0.55492735],\n",
       "       [0.04905486],\n",
       "       [0.02737769],\n",
       "       [0.20136139],\n",
       "       [0.320033  ],\n",
       "       [0.17307335],\n",
       "       [0.06756723],\n",
       "       [0.38824072],\n",
       "       [0.02737355],\n",
       "       [0.6675052 ],\n",
       "       [0.42833322],\n",
       "       [0.17084649],\n",
       "       [0.5710582 ],\n",
       "       [0.9255817 ],\n",
       "       [0.7959921 ],\n",
       "       [0.77704483],\n",
       "       [0.28071192],\n",
       "       [0.09971318],\n",
       "       [0.26341385],\n",
       "       [0.22437233],\n",
       "       [0.2554365 ],\n",
       "       [0.6373254 ],\n",
       "       [0.79395485],\n",
       "       [0.05087218],\n",
       "       [0.09595877],\n",
       "       [0.7163757 ],\n",
       "       [0.16428548],\n",
       "       [0.85776293],\n",
       "       [0.49808875],\n",
       "       [0.08594641],\n",
       "       [0.28408366],\n",
       "       [0.03554544],\n",
       "       [0.01206207],\n",
       "       [0.8361381 ],\n",
       "       [0.22547042],\n",
       "       [0.30388352],\n",
       "       [0.16869673],\n",
       "       [0.20697668],\n",
       "       [0.10910523],\n",
       "       [0.11666462],\n",
       "       [0.13591418],\n",
       "       [0.6538654 ],\n",
       "       [0.29909343],\n",
       "       [0.82810426],\n",
       "       [0.41264242],\n",
       "       [0.560254  ],\n",
       "       [0.03097388],\n",
       "       [0.51431674],\n",
       "       [0.532662  ],\n",
       "       [0.09518728],\n",
       "       [0.29162407],\n",
       "       [0.6482455 ],\n",
       "       [0.2031677 ],\n",
       "       [0.3196417 ],\n",
       "       [0.82531726],\n",
       "       [0.5729308 ],\n",
       "       [0.0894286 ],\n",
       "       [0.19029063],\n",
       "       [0.13698113],\n",
       "       [0.14243683],\n",
       "       [0.73318756],\n",
       "       [0.16231924],\n",
       "       [0.24943525],\n",
       "       [0.43410417],\n",
       "       [0.648856  ],\n",
       "       [0.06197932],\n",
       "       [0.11462066],\n",
       "       [0.8744761 ],\n",
       "       [0.78021747],\n",
       "       [0.15419647],\n",
       "       [0.16078037],\n",
       "       [0.15716371],\n",
       "       [0.08960679],\n",
       "       [0.13608068],\n",
       "       [0.5227739 ],\n",
       "       [0.3795044 ],\n",
       "       [0.26430178],\n",
       "       [0.3416893 ],\n",
       "       [0.15137345],\n",
       "       [0.21859157],\n",
       "       [0.26196608],\n",
       "       [0.05378893],\n",
       "       [0.26715916],\n",
       "       [0.1740016 ],\n",
       "       [0.8034622 ],\n",
       "       [0.06988603],\n",
       "       [0.17044333],\n",
       "       [0.22891113],\n",
       "       [0.06737018],\n",
       "       [0.12173119],\n",
       "       [0.1061492 ],\n",
       "       [0.2841725 ],\n",
       "       [0.6339294 ],\n",
       "       [0.15350774],\n",
       "       [0.05568591],\n",
       "       [0.7142298 ],\n",
       "       [0.9051385 ],\n",
       "       [0.26279604],\n",
       "       [0.72676015],\n",
       "       [0.54592574],\n",
       "       [0.83859074],\n",
       "       [0.53607965],\n",
       "       [0.476575  ],\n",
       "       [0.27516526],\n",
       "       [0.08885741],\n",
       "       [0.47798416],\n",
       "       [0.68775225],\n",
       "       [0.570265  ],\n",
       "       [0.57270086],\n",
       "       [0.29936123],\n",
       "       [0.14525202],\n",
       "       [0.7936882 ],\n",
       "       [0.07660633],\n",
       "       [0.8648472 ],\n",
       "       [0.1077328 ],\n",
       "       [0.14939988],\n",
       "       [0.3244788 ],\n",
       "       [0.16392699],\n",
       "       [0.3333009 ],\n",
       "       [0.05596471]], dtype=float32)"
      ]
     },
     "execution_count": 12,
     "metadata": {},
     "output_type": "execute_result"
    }
   ],
   "source": [
    "model.predict(X_test)"
   ]
  },
  {
   "cell_type": "code",
   "execution_count": 13,
   "id": "444946b3",
   "metadata": {
    "scrolled": true
   },
   "outputs": [
    {
     "name": "stdout",
     "output_type": "stream",
     "text": [
      "8/8 [==============================] - 0s 1ms/step - loss: 0.4316 - accuracy: 0.7922\n"
     ]
    },
    {
     "data": {
      "text/plain": [
       "[0.43163591623306274, 0.7922077775001526]"
      ]
     },
     "execution_count": 13,
     "metadata": {},
     "output_type": "execute_result"
    }
   ],
   "source": [
    "#model의 test set을 사지고 정확도 검증\n",
    "model.evaluate(X_test,y_test)"
   ]
  },
  {
   "cell_type": "code",
   "execution_count": 16,
   "id": "7531b0d8",
   "metadata": {
    "scrolled": true
   },
   "outputs": [
    {
     "data": {
      "text/plain": [
       "<function matplotlib.pyplot.show(close=None, block=None)>"
      ]
     },
     "execution_count": 16,
     "metadata": {},
     "output_type": "execute_result"
    },
    {
     "data": {
      "image/png": "[encoded data removed]",
      "text/plain": [
       "<Figure size 432x288 with 1 Axes>"
      ]
     },
     "metadata": {
      "needs_background": "light"
     },
     "output_type": "display_data"
    }
   ],
   "source": [
    "plt.plot(np.arange(len(scores.history['loss'])),scores.history['loss'],c='r')\n",
    "plt.show"
   ]
  },
  {
   "cell_type": "code",
   "execution_count": 17,
   "id": "c5b9b050",
   "metadata": {},
   "outputs": [
    {
     "data": {
      "text/plain": [
       "<function matplotlib.pyplot.show(close=None, block=None)>"
      ]
     },
     "execution_count": 17,
     "metadata": {},
     "output_type": "execute_result"
    },
    {
     "data": {
      "image/png": "[encoded data removed]",
      "text/plain": [
       "<Figure size 432x288 with 1 Axes>"
      ]
     },
     "metadata": {
      "needs_background": "light"
     },
     "output_type": "display_data"
    }
   ],
   "source": [
    "plt.plot(np.arange(len(scores.history['accuracy'])),scores.history['accuracy'],c='r')\n",
    "plt.show"
   ]
  }
 ],
 "metadata": {
  "kernelspec": {
   "display_name": "Python 3 (ipykernel)",
   "language": "python",
   "name": "python3"
  },
  "language_info": {
   "codemirror_mode": {
    "name": "ipython",
    "version": 3
   },
   "file_extension": ".py",
   "mimetype": "text/x-python",
   "name": "python",
   "nbconvert_exporter": "python",
   "pygments_lexer": "ipython3",
   "version": "3.8.12"
  }
 },
 "nbformat": 4,
 "nbformat_minor": 5
}
