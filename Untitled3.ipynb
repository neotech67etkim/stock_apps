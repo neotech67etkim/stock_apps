{
 "cells": [
  {
   "cell_type": "code",
   "execution_count": 1,
   "id": "98bba3ff",
   "metadata": {},
   "outputs": [],
   "source": [
    "import cv2"
   ]
  },
  {
   "cell_type": "code",
   "execution_count": 2,
   "id": "e71d5c01",
   "metadata": {},
   "outputs": [],
   "source": [
    "from PyQt5.QtCore import QDir, Qt\n",
    "from PyQt5.QtGui import QImage, QPainter, QPalette, QPixmap, qRgb\n",
    "from PyQt5.QtWidgets import (QAction, QApplication, QFileDialog, QLabel,\n",
    "        QMainWindow, QMenu, QMessageBox, QScrollArea, QSizePolicy, QInputDialog)\n",
    "from PyQt5.QtPrintSupport import QPrintDialog, QPrinter\n",
    "import glob\n",
    "import os\n",
    "\n",
    "class ImageViewer(QMainWindow):\n",
    "    def __init__(self):\n",
    "        super(ImageViewer, self).__init__()\n",
    "\n",
    "        self.gray_color_table = [qRgb(i, i, i) for i in range(256)]\n",
    "\n",
    "        self.base_path = './image_path'\n",
    "        self.img_list = glob.glob(os.path.join(self.base_path, '*.jpg'))\n",
    "        self.pos = 0\n",
    "        self.total = len(self.img_list)\n",
    "\n",
    "        self.printer = QPrinter()\n",
    "        self.width = 620\n",
    "        self.height = 620\n",
    "        \n",
    "        self.imageLabel = QLabel()\n",
    "        self.imageLabel.setBackgroundRole(QPalette.Base)\n",
    "        self.imageLabel.setSizePolicy(QSizePolicy.Ignored, QSizePolicy.Ignored)\n",
    "        self.imageLabel.setScaledContents(True)\n",
    "\n",
    "        self.scrollArea = QScrollArea()\n",
    "        self.scrollArea.setBackgroundRole(QPalette.Dark)\n",
    "        self.scrollArea.setWidget(self.imageLabel)\n",
    "        self.setCentralWidget(self.scrollArea)\n",
    "\n",
    "        self.createActions()\n",
    "        \n",
    "        self.setWindowTitle(\"Image Viewer\")\n",
    "        self.resize(self.width, self.height)\n",
    "        \n",
    "        image = cv2.imread(self.img_list[self.pos])\n",
    "        self.openImage(image=self.toQImage(image))\n",
    "    \n",
    "    def normalSize(self):\n",
    "        self.imageLabel.adjustSize()\n",
    "\n",
    "    def fitToWindow(self):\n",
    "        fitToWindow = self.fitToWindowAct.isChecked()\n",
    "        self.scrollArea.setWidgetResizable(fitToWindow)\n",
    "        if not fitToWindow:\n",
    "            self.normalSize()\n",
    "        self.updateActions()\n",
    "        \n",
    "    def createActions(self):\n",
    "        self.normalSizeAct = QAction(\"&Normal Size\", self, shortcut=\"Ctrl+S\",\n",
    "                enabled=False, triggered=self.normalSize)\n",
    "\n",
    "        self.fitToWindowAct = QAction(\"&Fit to Window\", self, enabled=False,\n",
    "                checkable=True, shortcut=\"Ctrl+F\", triggered=self.fitToWindow)\n",
    "        \n",
    "    def updateActions(self):\n",
    "        self.normalSizeAct.setEnabled(not self.fitToWindowAct.isChecked())\n",
    "       \n",
    "    def adjustScrollBar(self, scrollBar, factor):\n",
    "        scrollBar.setValue(int(factor * scrollBar.value()\n",
    "                                + ((factor - 1) * scrollBar.pageStep()/2)))"
   ]
  },
  {
   "cell_type": "code",
   "execution_count": 3,
   "id": "769b9b32",
   "metadata": {},
   "outputs": [],
   "source": [
    "def toQImage(self, im, copy=False):\n",
    "    if im is None:\n",
    "        return QImage()\n",
    "\n",
    "    if im.dtype == np.uint8:\n",
    "        if len(im.shape) == 2:\n",
    "            qim = QImage(im.data, im.shape[1], im.shape[0], im.strides[0], QImage.Format_Indexed8)\n",
    "            qim.setColorTable(self.gray_color_table)\n",
    "            return qim.copy() if copy else qim\n",
    "\n",
    "        elif len(im.shape) == 3:\n",
    "            if im.shape[2] == 3:\n",
    "                qim = QImage(im.data, im.shape[1], im.shape[0], im.strides[0], QImage.Format_RGB888)\n",
    "                return qim.copy() if copy else qim\n",
    "            elif im.shape[2] == 4:\n",
    "                qim = QImage(im.data, im.shape[1], im.shape[0], im.strides[0], QImage.Format_ARGB32)\n",
    "                return qim.copy() if copy else qim"
   ]
  },
  {
   "cell_type": "code",
   "execution_count": 4,
   "id": "8c1dc308",
   "metadata": {},
   "outputs": [],
   "source": [
    "def openImage(self, image=None, fileName=None):\n",
    "        if image == None:\n",
    "            image = QImage(fileName)\n",
    "        if image.isNull():\n",
    "            QMessageBox.information(self, \"Image Viewer\",\n",
    "                                    \"Cannot load %s.\" % fileName)\n",
    "            return\n",
    "\n",
    "        self.imageLabel.setPixmap(QPixmap.fromImage(image))\n",
    "\n",
    "        self.fitToWindowAct.setEnabled(True)\n",
    "        self.updateActions()\n",
    "        if not self.fitToWindowAct.isChecked():\n",
    "            self.imageLabel.adjustSize()"
   ]
  },
  {
   "cell_type": "code",
   "execution_count": 5,
   "id": "1f6d4eb9",
   "metadata": {},
   "outputs": [],
   "source": [
    "#keyPressEvent 함수\n",
    "\n",
    "def keyPressEvent(self, e):\n",
    "    if e.key() == 65:\n",
    "        if not self.pos == 0:\n",
    "            self.pos -= 1\n",
    "            image = cv2.imread(self.img_list[self.pos])\n",
    "            \"\"\"\n",
    "            이미지 처리\n",
    "            \"\"\"\n",
    "            self.openImage(image=self.toQImage(image))\n",
    "            print('\\r' + self.img_list[self.pos], end=\"\")\n",
    "                                            \n",
    "    elif e.key() == 68:\n",
    "        self.pos += 1\n",
    "        if self.total == self.pos:\n",
    "            self.pos -= 1\n",
    "        image = cv2.imread(self.img_list[self.pos])\n",
    "        \"\"\"\n",
    "        이미지 처리\n",
    "        \"\"\"\n",
    "        self.openImage(image=self.toQImage(image))            \n",
    "        print('\\r' + self.img_list[self.pos], end=\"\")"
   ]
  },
  {
   "cell_type": "code",
   "execution_count": 6,
   "id": "00f25970",
   "metadata": {},
   "outputs": [
    {
     "ename": "IndexError",
     "evalue": "list index out of range",
     "output_type": "error",
     "traceback": [
      "\u001b[1;31m---------------------------------------------------------------------------\u001b[0m",
      "\u001b[1;31mIndexError\u001b[0m                                Traceback (most recent call last)",
      "\u001b[1;32m~\\AppData\\Local\\Temp/ipykernel_1988/2817459476.py\u001b[0m in \u001b[0;36m<module>\u001b[1;34m\u001b[0m\n\u001b[0;32m      4\u001b[0m \u001b[1;33m\u001b[0m\u001b[0m\n\u001b[0;32m      5\u001b[0m     \u001b[0mapp\u001b[0m \u001b[1;33m=\u001b[0m \u001b[0mQApplication\u001b[0m\u001b[1;33m(\u001b[0m\u001b[0msys\u001b[0m\u001b[1;33m.\u001b[0m\u001b[0margv\u001b[0m\u001b[1;33m)\u001b[0m\u001b[1;33m\u001b[0m\u001b[1;33m\u001b[0m\u001b[0m\n\u001b[1;32m----> 6\u001b[1;33m     \u001b[0mimageViewer\u001b[0m \u001b[1;33m=\u001b[0m \u001b[0mImageViewer\u001b[0m\u001b[1;33m(\u001b[0m\u001b[1;33m)\u001b[0m\u001b[1;33m\u001b[0m\u001b[1;33m\u001b[0m\u001b[0m\n\u001b[0m\u001b[0;32m      7\u001b[0m     \u001b[0mimageViewer\u001b[0m\u001b[1;33m.\u001b[0m\u001b[0mshow\u001b[0m\u001b[1;33m(\u001b[0m\u001b[1;33m)\u001b[0m\u001b[1;33m\u001b[0m\u001b[1;33m\u001b[0m\u001b[0m\n\u001b[0;32m      8\u001b[0m     \u001b[0msys\u001b[0m\u001b[1;33m.\u001b[0m\u001b[0mexit\u001b[0m\u001b[1;33m(\u001b[0m\u001b[0mapp\u001b[0m\u001b[1;33m.\u001b[0m\u001b[0mexec_\u001b[0m\u001b[1;33m(\u001b[0m\u001b[1;33m)\u001b[0m\u001b[1;33m)\u001b[0m\u001b[1;33m\u001b[0m\u001b[1;33m\u001b[0m\u001b[0m\n",
      "\u001b[1;32m~\\AppData\\Local\\Temp/ipykernel_1988/2129410965.py\u001b[0m in \u001b[0;36m__init__\u001b[1;34m(self)\u001b[0m\n\u001b[0;32m     37\u001b[0m         \u001b[0mself\u001b[0m\u001b[1;33m.\u001b[0m\u001b[0mresize\u001b[0m\u001b[1;33m(\u001b[0m\u001b[0mself\u001b[0m\u001b[1;33m.\u001b[0m\u001b[0mwidth\u001b[0m\u001b[1;33m,\u001b[0m \u001b[0mself\u001b[0m\u001b[1;33m.\u001b[0m\u001b[0mheight\u001b[0m\u001b[1;33m)\u001b[0m\u001b[1;33m\u001b[0m\u001b[1;33m\u001b[0m\u001b[0m\n\u001b[0;32m     38\u001b[0m \u001b[1;33m\u001b[0m\u001b[0m\n\u001b[1;32m---> 39\u001b[1;33m         \u001b[0mimage\u001b[0m \u001b[1;33m=\u001b[0m \u001b[0mcv2\u001b[0m\u001b[1;33m.\u001b[0m\u001b[0mimread\u001b[0m\u001b[1;33m(\u001b[0m\u001b[0mself\u001b[0m\u001b[1;33m.\u001b[0m\u001b[0mimg_list\u001b[0m\u001b[1;33m[\u001b[0m\u001b[0mself\u001b[0m\u001b[1;33m.\u001b[0m\u001b[0mpos\u001b[0m\u001b[1;33m]\u001b[0m\u001b[1;33m)\u001b[0m\u001b[1;33m\u001b[0m\u001b[1;33m\u001b[0m\u001b[0m\n\u001b[0m\u001b[0;32m     40\u001b[0m         \u001b[0mself\u001b[0m\u001b[1;33m.\u001b[0m\u001b[0mopenImage\u001b[0m\u001b[1;33m(\u001b[0m\u001b[0mimage\u001b[0m\u001b[1;33m=\u001b[0m\u001b[0mself\u001b[0m\u001b[1;33m.\u001b[0m\u001b[0mtoQImage\u001b[0m\u001b[1;33m(\u001b[0m\u001b[0mimage\u001b[0m\u001b[1;33m)\u001b[0m\u001b[1;33m)\u001b[0m\u001b[1;33m\u001b[0m\u001b[1;33m\u001b[0m\u001b[0m\n\u001b[0;32m     41\u001b[0m \u001b[1;33m\u001b[0m\u001b[0m\n",
      "\u001b[1;31mIndexError\u001b[0m: list index out of range"
     ]
    }
   ],
   "source": [
    "if __name__ == '__main__':\n",
    "\n",
    "    import sys\n",
    "\n",
    "    app = QApplication(sys.argv)\n",
    "    imageViewer = ImageViewer()\n",
    "    imageViewer.show()\n",
    "    sys.exit(app.exec_())"
   ]
  }
 ],
 "metadata": {
  "kernelspec": {
   "display_name": "Python 3 (ipykernel)",
   "language": "python",
   "name": "python3"
  },
  "language_info": {
   "codemirror_mode": {
    "name": "ipython",
    "version": 3
   },
   "file_extension": ".py",
   "mimetype": "text/x-python",
   "name": "python",
   "nbconvert_exporter": "python",
   "pygments_lexer": "ipython3",
   "version": "3.8.12"
  }
 },
 "nbformat": 4,
 "nbformat_minor": 5
}
