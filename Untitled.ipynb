{
 "cells": [
  {
   "cell_type": "code",
   "execution_count": 7,
   "id": "3ba082e7",
   "metadata": {},
   "outputs": [],
   "source": [
    "import numpy as np\n",
    "from keras.preprocessing.text import Tokenizer\n",
    "\n",
    "docs = ['넘 재밌네요','최고예요','참 잘 만든 영화예요','추천하고 싶은 영화입니다','한번 더 보고 싶네요','글쎄요',\n",
    "       '별로예요','생각보다 지루하네요','연기가 어색해요','재미없어요']\n"
   ]
  },
  {
   "cell_type": "code",
   "execution_count": 24,
   "id": "d0e5fb73",
   "metadata": {},
   "outputs": [],
   "source": [
    "from numpy import array\n",
    "classess = array([1,1,1,1,1,0,0,0,0,0])  "
   ]
  },
  {
   "cell_type": "code",
   "execution_count": 9,
   "id": "8ed5f7c0",
   "metadata": {},
   "outputs": [
    {
     "name": "stdout",
     "output_type": "stream",
     "text": [
      "{'넘': 1, '재밌네요': 2, '최고예요': 3, '참': 4, '잘': 5, '만든': 6, '영화예요': 7, '추천하고': 8, '싶은': 9, '영화입니다': 10, '한번': 11, '더': 12, '보고': 13, '싶네요': 14, '글쎄요': 15, '별로예요': 16, '생각보다': 17, '지루하네요': 18, '연기가': 19, '어색해요': 20, '재미없어요': 21}\n",
      "10\n",
      "[[1, 2], [3], [4, 5, 6, 7], [8, 9, 10], [11, 12, 13, 14], [15], [16], [17, 18], [19, 20], [21]]\n"
     ]
    }
   ],
   "source": [
    "token = Tokenizer()\n",
    "token.fit_on_texts(docs)\n",
    "\n",
    "print(token.word_index)\n",
    "print(token.document_count)\n",
    "print(token.texts_to_sequences(docs))"
   ]
  },
  {
   "cell_type": "code",
   "execution_count": 12,
   "id": "c03ea0a9",
   "metadata": {},
   "outputs": [],
   "source": [
    "#padding 과정 / 문장마다 단어 수가 달라서...\n",
    "from keras.preprocessing.sequence import pad_sequences\n",
    "\n",
    "x = token.texts_to_sequences(docs)\n",
    "padded_x = pad_sequences(x,4)"
   ]
  },
  {
   "cell_type": "code",
   "execution_count": 16,
   "id": "74c6530d",
   "metadata": {},
   "outputs": [],
   "source": [
    "word_size = len(token.word_index)+1"
   ]
  },
  {
   "cell_type": "code",
   "execution_count": 21,
   "id": "e74df448",
   "metadata": {
    "scrolled": true
   },
   "outputs": [
    {
     "name": "stdout",
     "output_type": "stream",
     "text": [
      "Model: \"sequential_4\"\n",
      "_________________________________________________________________\n",
      "Layer (type)                 Output Shape              Param #   \n",
      "=================================================================\n",
      "embedding_3 (Embedding)      (None, 4, 8)              176       \n",
      "_________________________________________________________________\n",
      "flatten_3 (Flatten)          (None, 32)                0         \n",
      "_________________________________________________________________\n",
      "dense_3 (Dense)              (None, 1)                 33        \n",
      "=================================================================\n",
      "Total params: 209\n",
      "Trainable params: 209\n",
      "Non-trainable params: 0\n",
      "_________________________________________________________________\n"
     ]
    }
   ],
   "source": [
    "from keras.models import Sequential\n",
    "from keras.layers import Embedding, Dense, Flatten\n",
    "\n",
    "model = Sequential()\n",
    "\n",
    "model.add(Embedding(word_size,8,input_length=4))\n",
    "model.add(Flatten())\n",
    "model.add(Dense(1,activation='sigmoid'))\n",
    "model.summary()\n",
    "\n",
    "model.compile(loss='binary_crossentropy', optimizer ='adam', metrics=['accuracy'])"
   ]
  },
  {
   "cell_type": "code",
   "execution_count": 25,
   "id": "ed45ff81",
   "metadata": {
    "scrolled": false
   },
   "outputs": [
    {
     "name": "stdout",
     "output_type": "stream",
     "text": [
      "Epoch 1/20\n",
      "2/2 [==============================] - 0s 0s/step - loss: 0.6828 - accuracy: 0.6000\n",
      "Epoch 2/20\n",
      "2/2 [==============================] - 0s 2ms/step - loss: 0.6793 - accuracy: 0.6000\n",
      "Epoch 3/20\n",
      "2/2 [==============================] - 0s 998us/step - loss: 0.6758 - accuracy: 0.7000\n",
      "Epoch 4/20\n",
      "2/2 [==============================] - 0s 2ms/step - loss: 0.6723 - accuracy: 0.8000\n",
      "Epoch 5/20\n",
      "2/2 [==============================] - 0s 3ms/step - loss: 0.6692 - accuracy: 0.8000\n",
      "Epoch 6/20\n",
      "2/2 [==============================] - 0s 997us/step - loss: 0.6658 - accuracy: 0.8000\n",
      "Epoch 7/20\n",
      "2/2 [==============================] - 0s 2ms/step - loss: 0.6623 - accuracy: 0.8000\n",
      "Epoch 8/20\n",
      "2/2 [==============================] - 0s 4ms/step - loss: 0.6589 - accuracy: 0.8000\n",
      "Epoch 9/20\n",
      "2/2 [==============================] - 0s 2ms/step - loss: 0.6555 - accuracy: 0.9000\n",
      "Epoch 10/20\n",
      "2/2 [==============================] - 0s 2ms/step - loss: 0.6521 - accuracy: 0.9000\n",
      "Epoch 11/20\n",
      "2/2 [==============================] - 0s 3ms/step - loss: 0.6484 - accuracy: 0.9000\n",
      "Epoch 12/20\n",
      "2/2 [==============================] - 0s 2ms/step - loss: 0.6452 - accuracy: 0.9000\n",
      "Epoch 13/20\n",
      "2/2 [==============================] - 0s 5ms/step - loss: 0.6415 - accuracy: 0.9000\n",
      "Epoch 14/20\n",
      "2/2 [==============================] - 0s 2ms/step - loss: 0.6380 - accuracy: 0.9000\n",
      "Epoch 15/20\n",
      "2/2 [==============================] - 0s 2ms/step - loss: 0.6347 - accuracy: 0.9000\n",
      "Epoch 16/20\n",
      "2/2 [==============================] - 0s 2ms/step - loss: 0.6309 - accuracy: 0.9000\n",
      "Epoch 17/20\n",
      "2/2 [==============================] - 0s 996us/step - loss: 0.6276 - accuracy: 0.9000\n",
      "Epoch 18/20\n",
      "2/2 [==============================] - 0s 2ms/step - loss: 0.6238 - accuracy: 0.9000\n",
      "Epoch 19/20\n",
      "2/2 [==============================] - 0s 2ms/step - loss: 0.6201 - accuracy: 0.9000\n",
      "Epoch 20/20\n",
      "2/2 [==============================] - 0s 2ms/step - loss: 0.6164 - accuracy: 0.9000\n"
     ]
    },
    {
     "data": {
      "text/plain": [
       "<keras.callbacks.History at 0x145e7c12cd0>"
      ]
     },
     "execution_count": 25,
     "metadata": {},
     "output_type": "execute_result"
    }
   ],
   "source": [
    "model.fit(padded_x,classess,epochs=20, batch_size=5)"
   ]
  },
  {
   "cell_type": "code",
   "execution_count": 26,
   "id": "308f9324",
   "metadata": {},
   "outputs": [],
   "source": [
    "test_docs = ['흥미진진','별로','추천','잘 만들었어요','재미 있네요','재미 없어요',\n",
    "             '어색 하네요','지루 하네요','별로 네요','한번 더 볼 거예요']\n"
   ]
  },
  {
   "cell_type": "code",
   "execution_count": 27,
   "id": "397b3473",
   "metadata": {},
   "outputs": [
    {
     "data": {
      "text/plain": [
       "array([[ 0,  0,  0,  4],\n",
       "       [ 0,  0,  0,  1],\n",
       "       [ 0,  0,  0,  5],\n",
       "       [ 0,  0,  6,  7],\n",
       "       [ 0,  0,  2,  8],\n",
       "       [ 0,  0,  2,  9],\n",
       "       [ 0,  0, 10,  3],\n",
       "       [ 0,  0, 11,  3],\n",
       "       [ 0,  0,  1, 12],\n",
       "       [13, 14, 15, 16]])"
      ]
     },
     "execution_count": 27,
     "metadata": {},
     "output_type": "execute_result"
    }
   ],
   "source": [
    "token2 = Tokenizer()\n",
    "token2.fit_on_texts(test_docs)\n",
    "test_x = token2.texts_to_sequences(test_docs)\n",
    "padded_x2 = pad_sequences(test_x,4)\n",
    "padded_x2"
   ]
  },
  {
   "cell_type": "code",
   "execution_count": 28,
   "id": "78c98e26",
   "metadata": {},
   "outputs": [
    {
     "data": {
      "text/plain": [
       "array([[0.47087824],\n",
       "       [0.45533958],\n",
       "       [0.46850187],\n",
       "       [0.5109164 ],\n",
       "       [0.46525675],\n",
       "       [0.48067102],\n",
       "       [0.49383417],\n",
       "       [0.51920426],\n",
       "       [0.5055456 ],\n",
       "       [0.49681675]], dtype=float32)"
      ]
     },
     "execution_count": 28,
     "metadata": {},
     "output_type": "execute_result"
    }
   ],
   "source": [
    "model.predict(padded_x2)"
   ]
  },
  {
   "cell_type": "code",
   "execution_count": 29,
   "id": "44d0b958",
   "metadata": {},
   "outputs": [
    {
     "data": {
      "text/plain": [
       "array([[0.47087824],\n",
       "       [0.45533958],\n",
       "       [0.46850187],\n",
       "       [0.5109164 ],\n",
       "       [0.46525675],\n",
       "       [0.48067102],\n",
       "       [0.49383417],\n",
       "       [0.51920426],\n",
       "       [0.5055456 ],\n",
       "       [0.49681675]], dtype=float32)"
      ]
     },
     "execution_count": 29,
     "metadata": {},
     "output_type": "execute_result"
    }
   ],
   "source": [
    "token = Tokenizer()\n",
    "token.fit_on_texts(test_docs)\n",
    "test_x = token.texts_to_sequences(test_docs)\n",
    "padded_x2 = pad_sequences(test_x,4)\n",
    "padded_x2\n",
    "model.predict(padded_x2)"
   ]
  }
 ],
 "metadata": {
  "kernelspec": {
   "display_name": "Python 3 (ipykernel)",
   "language": "python",
   "name": "python3"
  },
  "language_info": {
   "codemirror_mode": {
    "name": "ipython",
    "version": 3
   },
   "file_extension": ".py",
   "mimetype": "text/x-python",
   "name": "python",
   "nbconvert_exporter": "python",
   "pygments_lexer": "ipython3",
   "version": "3.8.12"
  }
 },
 "nbformat": 4,
 "nbformat_minor": 5
}
