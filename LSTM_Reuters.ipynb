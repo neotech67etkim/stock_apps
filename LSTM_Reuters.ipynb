{
 "cells": [
  {
   "cell_type": "code",
   "execution_count": 21,
   "id": "52fe8757",
   "metadata": {},
   "outputs": [],
   "source": [
    "import numpy as np\n",
    "import matplotlib.pyplot as plt\n",
    "from keras.datasets import reuters\n",
    "from keras.preprocessing import sequence\n",
    "from keras.layers import Embedding, LSTM, Dense\n",
    "from keras.models import Sequential\n",
    "\n",
    "from tensorflow.keras.utils import to_categorical"
   ]
  },
  {
   "cell_type": "code",
   "execution_count": 10,
   "id": "566a79b7",
   "metadata": {
    "scrolled": true
   },
   "outputs": [
    {
     "name": "stdout",
     "output_type": "stream",
     "text": [
      "Downloading data from https://storage.googleapis.com/tensorflow/tf-keras-datasets/reuters.npz\n",
      "2113536/2110848 [==============================] - 0s 0us/step\n",
      "2121728/2110848 [==============================] - 0s 0us/step\n"
     ]
    }
   ],
   "source": [
    "(X_train, y_train),(X_test,y_test) = reuters.load_data(num_words=1000,test_split=0.2)\n"
   ]
  },
  {
   "cell_type": "code",
   "execution_count": 14,
   "id": "4f0e2e4f",
   "metadata": {},
   "outputs": [
    {
     "data": {
      "text/plain": [
       "4"
      ]
     },
     "execution_count": 14,
     "metadata": {},
     "output_type": "execute_result"
    }
   ],
   "source": [
    "y_train[1]"
   ]
  },
  {
   "cell_type": "code",
   "execution_count": 15,
   "id": "6facd8cd",
   "metadata": {},
   "outputs": [
    {
     "name": "stdout",
     "output_type": "stream",
     "text": [
      "(8982,) (8982,) (2246,) (2246,)\n"
     ]
    }
   ],
   "source": [
    "print(X_train.shape, y_train.shape,X_test.shape,y_test.shape)"
   ]
  },
  {
   "cell_type": "code",
   "execution_count": 22,
   "id": "16659064",
   "metadata": {},
   "outputs": [],
   "source": [
    "x_train = sequence.pad_sequences(X_train,maxlen=100)\n",
    "x_test = sequence.pad_sequences(X_test,maxlen=100)\n",
    "\n",
    "y_train = to_categorical(y_train)\n",
    "y_test = to_categorical(y_test)\n"
   ]
  },
  {
   "cell_type": "code",
   "execution_count": 28,
   "id": "236e2ed3",
   "metadata": {},
   "outputs": [
    {
     "name": "stdout",
     "output_type": "stream",
     "text": [
      "(8982, 100) (8982, 46)\n"
     ]
    }
   ],
   "source": [
    "print(x_train.shape,y_train.shape)"
   ]
  },
  {
   "cell_type": "code",
   "execution_count": null,
   "id": "d3bab0d0",
   "metadata": {},
   "outputs": [],
   "source": [
    "import os\n",
    "\n",
    "MODEL_DIR = './model/'\n",
    "if not os.path.exists(MODEL_DIR):\n",
    "    os.mkdir(MODEL_DIR)\n",
    "    \n",
    "checkpointer = ModelChe"
   ]
  },
  {
   "cell_type": "code",
   "execution_count": 29,
   "id": "bd4d96a8",
   "metadata": {},
   "outputs": [],
   "source": [
    "model = Sequential()\n",
    "\n",
    "model.add(Embedding(1000,100))\n",
    "model.add(LSTM(100,activation='tanh'))\n",
    "model.add(Dense(46, activation='softmax'))"
   ]
  },
  {
   "cell_type": "code",
   "execution_count": 30,
   "id": "b74902d5",
   "metadata": {
    "scrolled": true
   },
   "outputs": [
    {
     "name": "stdout",
     "output_type": "stream",
     "text": [
      "Epoch 1/20\n",
      "899/899 [==============================] - 28s 29ms/step - loss: 2.1305 - accuracy: 0.4628\n",
      "Epoch 2/20\n",
      "899/899 [==============================] - 32s 36ms/step - loss: 1.9318 - accuracy: 0.5023\n",
      "Epoch 3/20\n",
      "899/899 [==============================] - 32s 35ms/step - loss: 1.7224 - accuracy: 0.5569\n",
      "Epoch 4/20\n",
      "899/899 [==============================] - 32s 36ms/step - loss: 1.6687 - accuracy: 0.5647\n",
      "Epoch 5/20\n",
      "899/899 [==============================] - 32s 35ms/step - loss: 1.4937 - accuracy: 0.6249\n",
      "Epoch 6/20\n",
      "899/899 [==============================] - 32s 36ms/step - loss: 1.2851 - accuracy: 0.67820s - loss: 1.2842 - accu\n",
      "Epoch 7/20\n",
      "899/899 [==============================] - 33s 36ms/step - loss: 1.1369 - accuracy: 0.7148\n",
      "Epoch 8/20\n",
      "899/899 [==============================] - 32s 36ms/step - loss: 1.0363 - accuracy: 0.7386\n",
      "Epoch 9/20\n",
      "899/899 [==============================] - 32s 36ms/step - loss: 0.9445 - accuracy: 0.7646\n",
      "Epoch 10/20\n",
      "899/899 [==============================] - 32s 36ms/step - loss: 0.8621 - accuracy: 0.7818\n",
      "Epoch 11/20\n",
      "899/899 [==============================] - 32s 35ms/step - loss: 0.7884 - accuracy: 0.8007\n",
      "Epoch 12/20\n",
      "899/899 [==============================] - 32s 35ms/step - loss: 0.7219 - accuracy: 0.8156\n",
      "Epoch 13/20\n",
      "899/899 [==============================] - 32s 35ms/step - loss: 0.6505 - accuracy: 0.8351\n",
      "Epoch 14/20\n",
      "899/899 [==============================] - 32s 36ms/step - loss: 0.5870 - accuracy: 0.8483\n",
      "Epoch 15/20\n",
      "899/899 [==============================] - 32s 36ms/step - loss: 0.5328 - accuracy: 0.8628\n",
      "Epoch 16/20\n",
      "899/899 [==============================] - 32s 36ms/step - loss: 0.4661 - accuracy: 0.8805\n",
      "Epoch 17/20\n",
      "899/899 [==============================] - 32s 36ms/step - loss: 0.4118 - accuracy: 0.89131s\n",
      "Epoch 18/20\n",
      "899/899 [==============================] - 32s 36ms/step - loss: 0.3639 - accuracy: 0.9010\n",
      "Epoch 19/20\n",
      "899/899 [==============================] - 32s 36ms/step - loss: 0.3263 - accuracy: 0.9135\n",
      "Epoch 20/20\n",
      "899/899 [==============================] - 32s 36ms/step - loss: 0.2790 - accuracy: 0.9234\n"
     ]
    },
    {
     "data": {
      "text/plain": [
       "<keras.callbacks.History at 0x190a9464730>"
      ]
     },
     "execution_count": 30,
     "metadata": {},
     "output_type": "execute_result"
    }
   ],
   "source": [
    "model.compile(optimizer='adam',loss='categorical_crossentropy',metrics=['accuracy'])\n",
    "\n",
    "model.fit(x_train,y_train,batch_size=10,epochs=20,callback=[countercheck])"
   ]
  },
  {
   "cell_type": "code",
   "execution_count": 31,
   "id": "40c714c2",
   "metadata": {},
   "outputs": [
    {
     "name": "stdout",
     "output_type": "stream",
     "text": [
      "71/71 [==============================] - 2s 17ms/step - loss: 1.5713 - accuracy: 0.7119\n"
     ]
    },
    {
     "data": {
      "text/plain": [
       "[1.571343183517456, 0.7119323015213013]"
      ]
     },
     "execution_count": 31,
     "metadata": {},
     "output_type": "execute_result"
    }
   ],
   "source": [
    "model.evaluate(x_test,y_test)"
   ]
  }
 ],
 "metadata": {
  "kernelspec": {
   "display_name": "Python 3 (ipykernel)",
   "language": "python",
   "name": "python3"
  },
  "language_info": {
   "codemirror_mode": {
    "name": "ipython",
    "version": 3
   },
   "file_extension": ".py",
   "mimetype": "text/x-python",
   "name": "python",
   "nbconvert_exporter": "python",
   "pygments_lexer": "ipython3",
   "version": "3.8.12"
  }
 },
 "nbformat": 4,
 "nbformat_minor": 5
}
