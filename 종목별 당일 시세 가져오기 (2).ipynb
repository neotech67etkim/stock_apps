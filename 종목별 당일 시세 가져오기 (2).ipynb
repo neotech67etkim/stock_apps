{
 "cells": [
  {
   "cell_type": "code",
   "execution_count": 12,
   "metadata": {},
   "outputs": [],
   "source": [
    "from pykrx import stock\n",
    "from pykrx import bond\n",
    "import pandas as pd\n",
    "from datetime import datetime"
   ]
  },
  {
   "cell_type": "code",
   "execution_count": 13,
   "metadata": {},
   "outputs": [],
   "source": [
    "now = datetime.now()\n",
    "now = now.strftime('%Y-%m-%d')"
   ]
  },
  {
   "cell_type": "code",
   "execution_count": 14,
   "metadata": {},
   "outputs": [],
   "source": [
    "stock_list = pd.DataFrame({'종목코드':stock.get_market_ticker_list(market=\"ALL\")})\n",
    "stock_list['종목명'] = stock_list['종목코드'].map(lambda x: stock.get_market_ticker_name(x))\n",
    "stock_list.index = stock_list['종목코드']\n",
    "\n",
    "df1 = stock.get_market_ohlcv(now, market=\"ALL\") #시세정보\n",
    "df2 = stock.get_market_fundamental(now, market=\"ALL\") #PER등 재무정보\n",
    "df3 = stock.get_market_cap(now, market=\"ALL\") #시가총액 조회\n",
    "\n",
    "df_merged = pd.concat([df1,df2], axis=1) \n",
    "df_merged = df_merged[['시가', '고가', '저가','등락률', 'BPS', 'PER', 'PBR','EPS', 'DIV', 'DPS']]\n",
    "df_merged = pd.merge(df_merged, df3, left_index=True, right_index=True,how='outer')\n",
    "df_merged = pd.merge(df_merged, stock_list, left_index=True, right_index=True,how='outer')"
   ]
  },
  {
   "cell_type": "code",
   "execution_count": 15,
   "metadata": {},
   "outputs": [],
   "source": [
    "df_merged['전일종가'] = (df_merged['종가'] / (df_merged['등락률']/100+1)).round()\n",
    "df_merged['고가백분율'] = (((df_merged['고가']-df_merged['전일종가'])/df_merged['전일종가'])*100).round(2)\n",
    "df_merged['저가백분율'] = (((df_merged['저가']-df_merged['전일종가'])/df_merged['전일종가'])*100).round(2)\n",
    "df_merged = df_merged.fillna('-')\n",
    "df_merged = df_merged[['종목명','거래량','등락률','고가백분율','저가백분율','거래대금','시가총액','시가','고가',\\\n",
    "                       '저가','BPS','PER','PBR','EPS','DIV','DPS','종가','상장주식수','종목코드','전일종가']]\n",
    "df_merged.to_excel(\"test_daily_result.xlsx\")"
   ]
  },
  {
   "cell_type": "code",
   "execution_count": 23,
   "metadata": {},
   "outputs": [],
   "source": [
    "df_sd = pd.read_excel('c:/temp/시그널다이제스트.xlsx') #시그널다이제스트를 에버노트로 변환해서 전환한뒤 다이제스트부분만 오려서 엑셀에 붙여놓고 시그널다이제스트.xlsx로 저장함.\n",
    "df_sd = df_sd.dropna()\n",
    "df_sd = df_sd.reset_index(drop=True)\n",
    "df_sd.columns = ['content']\n",
    "\n",
    "df_sd_stock = df_sd[df_sd['content'].str.contains('관련주: ')]\n",
    "stock_series = df_sd_stock.content.str.split('관련주: ').str[1]\n",
    "stock_series = stock_series.reset_index()['content']\n",
    "stock_df = pd.DataFrame(stock_series)\n",
    "stock_df['list'] = stock_series.str.split(', ')\n",
    "stock_df['no'] = stock_df.index #일단 인덱스로 저장하고, 나중에 구문 분석이 완성되면 해당 기사와 리포트의 날짜를 같이 넣어서 사용"
   ]
  },
  {
   "cell_type": "code",
   "execution_count": 25,
   "metadata": {},
   "outputs": [],
   "source": [
    "no = 0\n",
    "list_df = pd.DataFrame()\n",
    "for list in stock_df['list']:\n",
    "    tmp_df = pd.DataFrame(list)\n",
    "    tmp_df['no'] = str(no)\n",
    "    list_df = pd.concat([list_df,tmp_df],ignore_index=True)\n",
    "    no += 1\n",
    "list_df.columns = ['종목명','기사no']"
   ]
  },
  {
   "cell_type": "code",
   "execution_count": 18,
   "metadata": {},
   "outputs": [],
   "source": [
    "final_df = pd.merge(list_df,df_merged)"
   ]
  },
  {
   "cell_type": "code",
   "execution_count": 19,
   "metadata": {},
   "outputs": [],
   "source": [
    "final_df.to_excel('시그널다이제스트결과.xlsx')"
   ]
  }
 ],
 "metadata": {
  "kernelspec": {
   "display_name": "Python 3.10.7 64-bit",
   "language": "python",
   "name": "python3"
  },
  "language_info": {
   "codemirror_mode": {
    "name": "ipython",
    "version": 3
   },
   "file_extension": ".py",
   "mimetype": "text/x-python",
   "name": "python",
   "nbconvert_exporter": "python",
   "pygments_lexer": "ipython3",
   "version": "3.10.7"
  },
  "orig_nbformat": 4,
  "vscode": {
   "interpreter": {
    "hash": "369f2c481f4da34e4445cda3fffd2e751bd1c4d706f27375911949ba6bb62e1c"
   }
  }
 },
 "nbformat": 4,
 "nbformat_minor": 2
}
