{
 "cells": [
  {
   "cell_type": "code",
   "execution_count": 3,
   "id": "a26d3570",
   "metadata": {},
   "outputs": [
    {
     "name": "stdout",
     "output_type": "stream",
     "text": [
      "Collecting openpyxl\n",
      "  Downloading openpyxl-3.0.10-py2.py3-none-any.whl (242 kB)\n",
      "Collecting et-xmlfile\n",
      "  Downloading et_xmlfile-1.1.0-py3-none-any.whl (4.7 kB)\n",
      "Installing collected packages: et-xmlfile, openpyxl\n",
      "Successfully installed et-xmlfile-1.1.0 openpyxl-3.0.10\n",
      "Note: you may need to restart the kernel to use updated packages.\n"
     ]
    }
   ],
   "source": [
    "pip install openpyxl"
   ]
  },
  {
   "cell_type": "code",
   "execution_count": null,
   "id": "38433400",
   "metadata": {},
   "outputs": [],
   "source": [
    "import pandas as pd\n",
    "\n",
    "from openpyxl import load_workbook\n",
    "from openpyxl.utils.cell import range_boundaries\n",
    "from copy import copy\n",
    "\n",
    "wb = load_workbook(filename='C:/Users/neote/Downloads/1234.xlsx',data_only=True)\n",
    "\n",
    "\n",
    "mcr_coord_list = [mcr.coord for mcr in sheet.merged_cells.ranges]\n",
    "\n",
    "for mcr in mcr_coord_list:\n",
    "    min_col, min_row, max_col, max_row = range_boundaries(mcr)\n",
    "\n",
    "    top_cell_value = sheet.cell(row=min_row, column=min_col).value\n",
    "    sheet.unmerge_cells(mcr)\n",
    "\n",
    "    for row in sheet.iter_rows(min_col=min_col, min_row=min_row, max_col=max_col, max_row=max_row):\n",
    "        for cell in row:\n",
    "            cell.value = top_cell_value\n",
    "\n",
    "df = pd.DataFrame(sheet.values)\n",
    "\n",
    "df.fillna('x',inplace=True)"
   ]
  }
 ],
 "metadata": {
  "kernelspec": {
   "display_name": "Python 3 (ipykernel)",
   "language": "python",
   "name": "python3"
  },
  "language_info": {
   "codemirror_mode": {
    "name": "ipython",
    "version": 3
   },
   "file_extension": ".py",
   "mimetype": "text/x-python",
   "name": "python",
   "nbconvert_exporter": "python",
   "pygments_lexer": "ipython3",
   "version": "3.8.12"
  }
 },
 "nbformat": 4,
 "nbformat_minor": 5
}
