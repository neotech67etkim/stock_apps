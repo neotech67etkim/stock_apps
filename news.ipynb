{
 "cells": [
  {
   "cell_type": "code",
   "execution_count": 6,
   "id": "5a8a67d0",
   "metadata": {},
   "outputs": [],
   "source": [
    "import numpy as np\n",
    "import pandas as pd\n",
    "from keras.datasets import imdb\n",
    "from keras.models import Sequential\n",
    "from keras.layers import Dense, LSTM, Embedding, Conv1D, Dropout, MaxPool1D\n",
    "from keras.preprocessing import sequence\n",
    "from keras.utils import np_utils\n",
    "import tensorflow as tf\n",
    "import matplotlib.pyplot as plt\n",
    "\n",
    "np.random.seed(3)\n",
    "tf.random.set_seed(3)"
   ]
  },
  {
   "cell_type": "code",
   "execution_count": 8,
   "id": "98973c71",
   "metadata": {},
   "outputs": [],
   "source": [
    "(X_train,y_train),(X_test,y_test) = imdb.load_data(num_words=5000)"
   ]
  },
  {
   "cell_type": "code",
   "execution_count": 9,
   "id": "3730a155",
   "metadata": {},
   "outputs": [],
   "source": [
    "x_train = sequence.pad_sequences(X_train, 100)\n",
    "x_test = sequence.pad_sequences(X_test, 100)"
   ]
  },
  {
   "cell_type": "code",
   "execution_count": 12,
   "id": "f2878054",
   "metadata": {
    "scrolled": true
   },
   "outputs": [
    {
     "name": "stdout",
     "output_type": "stream",
     "text": [
      "Model: \"sequential_2\"\n",
      "_________________________________________________________________\n",
      "Layer (type)                 Output Shape              Param #   \n",
      "=================================================================\n",
      "embedding_2 (Embedding)      (None, None, 100)         500000    \n",
      "_________________________________________________________________\n",
      "dropout_2 (Dropout)          (None, None, 100)         0         \n",
      "_________________________________________________________________\n",
      "conv1d_2 (Conv1D)            (None, None, 64)          32064     \n",
      "_________________________________________________________________\n",
      "max_pooling1d_1 (MaxPooling1 (None, None, 64)          0         \n",
      "_________________________________________________________________\n",
      "lstm (LSTM)                  (None, 55)                26400     \n",
      "_________________________________________________________________\n",
      "dense (Dense)                (None, 1)                 56        \n",
      "=================================================================\n",
      "Total params: 558,520\n",
      "Trainable params: 558,520\n",
      "Non-trainable params: 0\n",
      "_________________________________________________________________\n"
     ]
    }
   ],
   "source": [
    "model = Sequential()\n",
    "\n",
    "model.add(Embedding(5000,100))\n",
    "model.add(Dropout(0.5))\n",
    "model.add(Conv1D(64,5,padding='valid',activation='relu',strides=1))\n",
    "model.add(MaxPool1D(pool_size=4))\n",
    "model.add(LSTM(55))\n",
    "model.add(Dense(1,activation='sigmoid'))\n",
    "model.summary()\n",
    "\n"
   ]
  },
  {
   "cell_type": "code",
   "execution_count": 15,
   "id": "128d1317",
   "metadata": {},
   "outputs": [
    {
     "name": "stdout",
     "output_type": "stream",
     "text": [
      "Epoch 1/10\n",
      "2500/2500 [==============================] - 40s 16ms/step - loss: 0.0970 - accuracy: 0.9665\n",
      "Epoch 2/10\n",
      "2500/2500 [==============================] - 40s 16ms/step - loss: 0.0633 - accuracy: 0.9794\n",
      "Epoch 3/10\n",
      "2500/2500 [==============================] - 41s 16ms/step - loss: 0.0511 - accuracy: 0.9829\n",
      "Epoch 4/10\n",
      "2500/2500 [==============================] - 40s 16ms/step - loss: 0.0482 - accuracy: 0.9837\n",
      "Epoch 5/10\n",
      "2500/2500 [==============================] - 40s 16ms/step - loss: 0.1105 - accuracy: 0.9581\n",
      "Epoch 6/10\n",
      "2500/2500 [==============================] - 40s 16ms/step - loss: 0.0867 - accuracy: 0.9669\n",
      "Epoch 7/10\n",
      "2500/2500 [==============================] - 40s 16ms/step - loss: 0.0715 - accuracy: 0.9738\n",
      "Epoch 8/10\n",
      "2500/2500 [==============================] - 40s 16ms/step - loss: 0.0640 - accuracy: 0.9764\n",
      "Epoch 9/10\n",
      "2500/2500 [==============================] - 40s 16ms/step - loss: 0.0587 - accuracy: 0.9791\n",
      "Epoch 10/10\n",
      "2500/2500 [==============================] - 41s 16ms/step - loss: 0.0531 - accuracy: 0.9806\n"
     ]
    },
    {
     "data": {
      "text/plain": [
       "<keras.callbacks.History at 0x1ca2209cdc0>"
      ]
     },
     "execution_count": 15,
     "metadata": {},
     "output_type": "execute_result"
    }
   ],
   "source": [
    "model.compile(loss='binary_crossentropy',optimizer = 'adam', metrics=['accuracy'])\n",
    "model.fit(x_train,y_train,batch_size=10,epochs=10)"
   ]
  }
 ],
 "metadata": {
  "kernelspec": {
   "display_name": "Python 3 (ipykernel)",
   "language": "python",
   "name": "python3"
  },
  "language_info": {
   "codemirror_mode": {
    "name": "ipython",
    "version": 3
   },
   "file_extension": ".py",
   "mimetype": "text/x-python",
   "name": "python",
   "nbconvert_exporter": "python",
   "pygments_lexer": "ipython3",
   "version": "3.8.12"
  }
 },
 "nbformat": 4,
 "nbformat_minor": 5
}
