{
 "cells": [
  {
   "cell_type": "code",
   "execution_count": 1,
   "id": "ee2e70cf",
   "metadata": {
    "scrolled": true
   },
   "outputs": [],
   "source": [
    "from PyQt5.QtCore import QDir, Qt\n",
    "from PyQt5.QtGui import QImage, QPainter, QPalette, QPixmap, qRgb\n",
    "from PyQt5.QtWidgets import (QAction, QApplication, QFileDialog, QLabel,\n",
    "        QMainWindow, QMenu, QMessageBox, QScrollArea, QSizePolicy, QInputDialog, QWidget)\n",
    "from PyQt5.QtPrintSupport import QPrintDialog, QPrinter\n",
    "import glob\n",
    "import os\n",
    "import sys"
   ]
  },
  {
   "cell_type": "code",
   "execution_count": null,
   "id": "f65879fa",
   "metadata": {},
   "outputs": [],
   "source": [
    "class myWindow(QWidget):\n",
    "    def __init__(self):\n",
    "        super().__init__()\n",
    "        self.UIsetup()\n",
    "    \n",
    "    def UIsetup(self):\n",
    "        self.setWindowTitle('111,111,111')\n",
    "        self.setGeometry(500,500,400,400)\n",
    "        self.show\n",
    "    \n",
    "프로그램무한반복 = QApplication(sys.argv)\n",
    "실행인스턴스 = myWindow()\n",
    "프로그램무한반복.exec_()"
   ]
  },
  {
   "cell_type": "code",
   "execution_count": null,
   "id": "a71e29a4",
   "metadata": {},
   "outputs": [],
   "source": []
  }
 ],
 "metadata": {
  "kernelspec": {
   "display_name": "Python 3 (ipykernel)",
   "language": "python",
   "name": "python3"
  },
  "language_info": {
   "codemirror_mode": {
    "name": "ipython",
    "version": 3
   },
   "file_extension": ".py",
   "mimetype": "text/x-python",
   "name": "python",
   "nbconvert_exporter": "python",
   "pygments_lexer": "ipython3",
   "version": "3.8.12"
  }
 },
 "nbformat": 4,
 "nbformat_minor": 5
}
