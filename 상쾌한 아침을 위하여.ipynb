{
 "cells": [
  {
   "cell_type": "code",
   "execution_count": null,
   "id": "e91dbe08",
   "metadata": {},
   "outputs": [],
   "source": [
    "잘못한 점, 반성할 점\n",
    "아침이 상쾌하지 않아서 늘 불쾌한 기분, 쫓기는 기분으로 하루의 시작을 세팅했다.\n",
    "그래서 일상중에도 불만이 많아지는 경향을 누르지 못했다.\n",
    "\n",
    "아침은 밤에서 출발한다.\n",
    "나의 비중은 밤에 무엇을 할까?\n",
    "밤에 나의 것을 하고싶다. 라고 설정이 되어 있었다.\n",
    "\n",
    "음주는 그 다음날 아침으로 연결되어 어제의 기분 좋은 마무리가 오늘의 기분 나쁜 시작이 된다.\n",
    "내 뇌는 활성화되지 못하고 죽어 있는 채로 반 이상이 지났다가 밤이 되어서야 본능적인 쾌락에 젖어든다.\n",
    "\n",
    "생각을 더듬어보면 입사 초기에 나의 생활이 매우 바른 것 같다.\n",
    "한시간 먼저 출근해서 그날 할 일을 정리하고 모든 일정을 기록하고 체크하고 관리했다.\n",
    "한달에 몇 권의 책을 읽겠다 정해놓고 꽤 많은 독서를 하였다.\n",
    "\n",
    "그러한 루틴이 지겨운 것인지, 다른 외부자극이 들어와서 인지, 루틴이 무너진 것은 얼마되지 않은 듯 하다.\n",
    "초심을 잃은 것이다.\n",
    "\n",
    "충분한 수면 시간을 확보하라.\n",
    "규칙적인 수면시간을 반복하라.\n"
   ]
  }
 ],
 "metadata": {
  "kernelspec": {
   "display_name": "Python 3 (ipykernel)",
   "language": "python",
   "name": "python3"
  },
  "language_info": {
   "codemirror_mode": {
    "name": "ipython",
    "version": 3
   },
   "file_extension": ".py",
   "mimetype": "text/x-python",
   "name": "python",
   "nbconvert_exporter": "python",
   "pygments_lexer": "ipython3",
   "version": "3.8.12"
  }
 },
 "nbformat": 4,
 "nbformat_minor": 5
}
